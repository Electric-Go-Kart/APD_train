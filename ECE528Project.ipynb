{
 "cells": [
  {
   "cell_type": "markdown",
   "metadata": {
    "id": "iLByKKd-rb9g",
    "tags": []
   },
   "source": [
    "# To train and test Yolov5, the first clone the repository. All dependencies must be installed an imported as well"
   ]
  },
  {
   "cell_type": "code",
   "execution_count": null,
   "metadata": {
    "id": "PAtZso_krwPK"
   },
   "outputs": [],
   "source": [
    "!pip install roboflow\n",
    "#export.py requires this version of tensorflow. In the future, other versions may work, however this one works as of 11/11\n",
    "!pip install tensorflow==2.6.2"
   ]
  },
  {
   "cell_type": "code",
   "execution_count": null,
   "metadata": {
    "id": "E4HlaKnKqWSz"
   },
   "outputs": [],
   "source": [
    "!git clone https://github.com/ultralytics/yolov5\n",
    "%cd yolov5\n",
    "!pip install -r requirements.txt\n",
    "import pathlib\n",
    "import os\n",
    "import cv2\n",
    "import zipfile\n",
    "from os import path\n",
    "import shutil\n",
    "import csv\n",
    "import random\n",
    "import numpy as np\n",
    "import configparser"
   ]
  },
  {
   "cell_type": "markdown",
   "metadata": {
    "id": "iIH3wuOssEi2"
   },
   "source": [
    "# The next cells contain necessary steps to train the model on the Kitti dataset"
   ]
  },
  {
   "cell_type": "code",
   "execution_count": 3,
   "metadata": {
    "id": "jL5k0gNWsXM4"
   },
   "outputs": [],
   "source": [
    "#creates a yaml file to train YOLOv5 on the Kitti dataset\n",
    "data = open(\"data.yaml\", \"w\")\n",
    "data.write(\"train: ./kittiyolo/train/images\\nval: ./kittiyolo/valid/images\\nnc: 8\\nnames: [\\'Car\\', \\'Pedestrian\\', \\'Cyclist\\', \\'Van\\', \\'Truck\\', \\'Person_sitting\\', \\'Tram\\', \\'DontCare\\']\")\n",
    "data.close()"
   ]
  },
  {
   "cell_type": "markdown",
   "metadata": {},
   "source": [
    "NOTE: As noted in the README, in order to download the Kitti dataset and labels correctly, you must modify the config.ini file with the appropriate links. These links can be accessed by registering for an account at http://www.cvlibs.net/datasets/kitti/user_login.php"
   ]
  },
  {
   "cell_type": "code",
   "execution_count": null,
   "metadata": {},
   "outputs": [],
   "source": [
    "parser = configparser.ConfigParser()\n",
    "if os.path.isfile('config.ini'):\n",
    "  parser.read('config.ini')\n",
    "  images_link = parser.get('Kitti', 'KittiImagesLink')\n",
    "  labels_link = parser.get('Kitti', 'KittiLabelsLink')\n",
    "else:\n",
    "  print('Config file not found')"
   ]
  },
  {
   "cell_type": "code",
   "execution_count": 1,
   "metadata": {
    "id": "aMVF5QvuqegM"
   },
   "outputs": [
    {
     "name": "stderr",
     "output_type": "stream",
     "text": [
      "'wget' is not recognized as an internal or external command,\n",
      "operable program or batch file.\n"
     ]
    }
   ],
   "source": [
    "#downloads the kitti images in a zip file\n",
    "# NOTE: this will take a lot of space\n",
    "!wget {images_link} -O kitti.zip"
   ]
  },
  {
   "cell_type": "code",
   "execution_count": null,
   "metadata": {
    "id": "jdYuYkHkqgSQ"
   },
   "outputs": [],
   "source": [
    "#downloads the kitti labels in a zip file\n",
    "!wget {labels_link} -O kittilabel.zip"
   ]
  },
  {
   "cell_type": "code",
   "execution_count": 6,
   "metadata": {
    "id": "lwQOtIesqhu9"
   },
   "outputs": [],
   "source": [
    "#unzips both the images and labels\n",
    "with zipfile.ZipFile(\"./kitti.zip\", 'r') as zip_ref:\n",
    "    zip_ref.extractall(\"kitti\")\n",
    "\n",
    "import zipfile\n",
    "with zipfile.ZipFile(\"./kittilabel.zip\", 'r') as zip_ref:\n",
    "    zip_ref.extractall(\"kittilabel\")"
   ]
  },
  {
   "cell_type": "markdown",
   "metadata": {
    "id": "eRibzG6hvZjA"
   },
   "source": [
    "The next few boxes convert the original labels of the Kitti dataset to a form that YOLOv5 is able to use. If you wish to understand this transformation, open a Kitti label file before running the next few cells, and then open the corresponding file after running the cells."
   ]
  },
  {
   "cell_type": "code",
   "execution_count": 7,
   "metadata": {
    "id": "6JC8KcE3qjwq"
   },
   "outputs": [],
   "source": [
    "data_dir = pathlib.Path('kitti/training/image_2')\n",
    "label_dir = pathlib.Path('kitti/training/label_2')\n",
    "yolo_labels = pathlib.Path('yolo')"
   ]
  },
  {
   "cell_type": "code",
   "execution_count": 8,
   "metadata": {
    "id": "x_0KAsQHqlTq"
   },
   "outputs": [],
   "source": [
    "image_count = len(list(data_dir.glob('*.png')))\n",
    "label_count = len(list(label_dir.glob('*.txt')))"
   ]
  },
  {
   "cell_type": "code",
   "execution_count": 9,
   "metadata": {
    "id": "NIgRpwpQqmpC"
   },
   "outputs": [],
   "source": [
    "root_path = \"./kitti/training/\"\n",
    "yolo_path = \"yolo/\""
   ]
  },
  {
   "cell_type": "code",
   "execution_count": 10,
   "metadata": {
    "id": "-lyujdOfqobb"
   },
   "outputs": [],
   "source": [
    "kitti2yolotype_dict = {\n",
    "    \"Car\": \"0\",\n",
    "    \"Van\": \"0\",\n",
    "    \"Pedestrian\": \"1\",\n",
    "    \"Person_sitting\": \"1\",\n",
    "    \"Cyclist\": \"2\",\n",
    "    \"Truck\": \"3\",\n",
    "    \"Tram\": \"6\",\n",
    "    \"Misc\": \"6\",\n",
    "    \"DontCare\": \"6\",\n",
    "}\n",
    "def kitti2yolo(kitti_label, img_height, img_width):\n",
    "\n",
    "    kitti_label_arr = kitti_label.split(\" \")\n",
    "    x1 = float(kitti_label_arr[4])\n",
    "    y1 = float(kitti_label_arr[5])\n",
    "    x2 = float(kitti_label_arr[6])\n",
    "    y2 = float(kitti_label_arr[7])\n",
    "\n",
    "    bb_width = x2 - x1\n",
    "    bb_height = y2 - y1\n",
    "    yolo_x = (x1 + 0.5 * bb_width) / img_width\n",
    "    yolo_y = (y1 + 0.5 * bb_height) / img_height\n",
    "    yolo_bb_width = bb_width / img_width\n",
    "    yolo_bb_height = bb_height / img_height\n",
    "    yolo_label = kitti2yolotype_dict[kitti_label_arr[0]]\n",
    "\n",
    "    return (\n",
    "        yolo_label\n",
    "        + \" \"\n",
    "        + str(yolo_x)\n",
    "        + \" \"\n",
    "        + str(yolo_y)\n",
    "        + \" \"\n",
    "        + str(yolo_bb_width)\n",
    "        + \" \"\n",
    "        + str(yolo_bb_height)\n",
    "    )"
   ]
  },
  {
   "cell_type": "code",
   "execution_count": 11,
   "metadata": {
    "id": "Y6sGd0QnqpyG"
   },
   "outputs": [],
   "source": [
    "%cp -r kittilabel/training/label_2 kitti/training/label_2"
   ]
  },
  {
   "cell_type": "code",
   "execution_count": 12,
   "metadata": {
    "id": "NsxqzEuqqrTu"
   },
   "outputs": [],
   "source": [
    "kitti_images_path = root_path + \"image_2\" + os.sep\n",
    "kitti_labels_path = root_path + \"label_2\" + os.sep\n",
    "\n",
    "# yolo paths\n",
    "if yolo_path is None:\n",
    "    yolo_path = root_path + \"yolo_labels\" + os.sep\n",
    "\n",
    "if not os.path.exists(yolo_path):\n",
    "    os.makedirs(yolo_path)\n",
    "\n",
    "# load each kitti label, convert to yolo and save\n",
    "for labelfilename in os.listdir(kitti_labels_path):\n",
    "  yolo_labels = []\n",
    "  with open(kitti_labels_path + labelfilename, \"r\") as kittilabelfile:\n",
    "    cvimage = cv2.imread(\n",
    "        kitti_images_path + labelfilename.split(\".txt\")[0] + \".png\"\n",
    "        )\n",
    "    height, width, frame_depth = cvimage.shape\n",
    "    for kitti_label in kittilabelfile:\n",
    "      yolo_labels.append(\n",
    "          kitti2yolo(kitti_label, img_height=height, img_width=width)\n",
    "          )\n",
    "      with open(yolo_path + labelfilename, \"w+\") as yololabelfile:\n",
    "        for label in yolo_labels:\n",
    "          yololabelfile.write(label + \"\\n\")"
   ]
  },
  {
   "cell_type": "markdown",
   "metadata": {
    "id": "ao4SuLz0vxV8"
   },
   "source": [
    "The next cells move the correct YOLOv5 labels to a directory so they can be used to train the model"
   ]
  },
  {
   "cell_type": "code",
   "execution_count": null,
   "metadata": {
    "id": "V0ULjL9_qsiQ"
   },
   "outputs": [],
   "source": [
    "%mkdir kittiyolo\n",
    "%cd kittiyolo\n",
    "%mkdir train\n",
    "%mkdir valid\n",
    "%cd valid\n",
    "%mkdir images\n",
    "%mkdir labels\n",
    "%cd ../.."
   ]
  },
  {
   "cell_type": "code",
   "execution_count": 14,
   "metadata": {
    "id": "3r3vn6x-qts1"
   },
   "outputs": [],
   "source": [
    "%cp -r yolo kittiyolo/train/labels\n",
    "%cp -r kitti/training/image_2 kittiyolo/train/images"
   ]
  },
  {
   "cell_type": "code",
   "execution_count": 15,
   "metadata": {
    "id": "EvgWs8kPqvHO"
   },
   "outputs": [],
   "source": [
    "root_path = \"./kittiyolo/train/\"\n",
    "kittiyolo_images_path = root_path + \"images\" + os.sep\n",
    "kittiyolo_labels_path = root_path + \"labels\" + os.sep\n",
    "yolo_valid_path = \"./yolo/valid\"\n",
    "\n",
    "# load each kitti label, convert to yolo and save\n",
    "count = 0\n",
    "for labelfilename in os.listdir(kittiyolo_images_path):\n",
    "  count = count+1\n",
    "  if count == 3:\n",
    "    break"
   ]
  },
  {
   "cell_type": "code",
   "execution_count": 16,
   "metadata": {
    "id": "51SAINbsqyIO"
   },
   "outputs": [],
   "source": [
    "def moveFiles(src, dst):\n",
    "  files = []\n",
    "  for i in os.listdir(src):\n",
    "    files.append(i)\n",
    "  files = sorted(files)\n",
    "  listt = np.random.RandomState(seed=42).permutation(files)[:1000]\n",
    "  for f in listt:\n",
    "    shutil.copy(os.path.join(src, f), dst)\n",
    "    p = os.path.join(src, f)\n",
    "    os.remove(p)"
   ]
  },
  {
   "cell_type": "code",
   "execution_count": 17,
   "metadata": {
    "id": "A1KrVa-jqzs9"
   },
   "outputs": [],
   "source": [
    "moveFiles(\"kittiyolo/train/images\", \"kittiyolo/valid/images\")\n",
    "moveFiles(\"kittiyolo/train/labels\", \"kittiyolo/valid/labels\")"
   ]
  },
  {
   "cell_type": "markdown",
   "metadata": {
    "id": "dp_xL7HctlDn"
   },
   "source": [
    "# The next cells add a dataset of about 900 custom images to the Kitti dataset. \n",
    "This allows for detection of pedestrians at a closer range, as the original Kitti dataset only contains images of pedestrians from a distance. If you wish to only train on Kitti, skip these cells. This custom dataset was created and is housed in Roboflow. Access to this dataset will need to be obtained if you wish to edit or view the dataset more fully."
   ]
  },
  {
   "cell_type": "code",
   "execution_count": null,
   "metadata": {
    "id": "hQ6A0V_L41oH"
   },
   "outputs": [],
   "source": [
    "from roboflow import Roboflow\n",
    "rf = Roboflow(api_key=\"v40ZMYu9O9KrUmkE9j9O\")\n",
    "project = rf.workspace().project(\"528.2-project\")\n",
    "dataset = project.version(2).download(\"yolov5\")"
   ]
  },
  {
   "cell_type": "code",
   "execution_count": 19,
   "metadata": {
    "id": "n96TJQNVrQqm"
   },
   "outputs": [],
   "source": [
    "# In the Roboflow dataset, only three classes exist, whereas Kitti attempts to label\n",
    "# 8 classes. The only class number that exists incorrectly in the Roboflow dataset\n",
    "# is the truck label, which is 4 in the Kitti dataset, but originally 2 in the \n",
    "# Roboflow dataset. This method performs a conversion\n",
    "def convert_trucks():\n",
    "  for filename in os.listdir(os.getcwd()):\n",
    "      newlines = []\n",
    "      flag = False\n",
    "      with open(os.path.join(os.getcwd(), filename), \"r\") as f:\n",
    "          if str(filename[0]) == \"p\":\n",
    "              flag = True\n",
    "              lines = f.readlines()\n",
    "              for x in lines:\n",
    "                  if x[0] == \"2\":\n",
    "                      newlines.append(\"4\" + x[1:])\n",
    "                  else:\n",
    "                      newlines.append(x)\n",
    "      f.close()\n",
    "      if flag:\n",
    "          with open(os.path.join(os.getcwd(), filename), \"w\") as f:\n",
    "              for x in newlines:\n",
    "                  f.write(\"%s\" % x)\n",
    "          f.close()\n",
    "      flag = False"
   ]
  },
  {
   "cell_type": "code",
   "execution_count": null,
   "metadata": {
    "id": "YY0-UjeMrSTR"
   },
   "outputs": [],
   "source": [
    "%cd ./528.2-Project-2/train/labels\n",
    "convert_trucks()"
   ]
  },
  {
   "cell_type": "code",
   "execution_count": null,
   "metadata": {
    "id": "kYyU7bucrTs4"
   },
   "outputs": [],
   "source": [
    "%cd ../../valid/labels\n",
    "convert_trucks()"
   ]
  },
  {
   "cell_type": "code",
   "execution_count": null,
   "metadata": {
    "id": "gBfWDhzXrVBR"
   },
   "outputs": [],
   "source": [
    "%cd ../../.."
   ]
  },
  {
   "cell_type": "code",
   "execution_count": 23,
   "metadata": {
    "id": "PSymHzGRrWVV"
   },
   "outputs": [],
   "source": [
    "moveFiles('528.2-Project-2/train/labels', 'kittiyolo/train/labels')\n",
    "moveFiles('528.2-Project-2/train/images', 'kittiyolo/train/images')\n",
    "moveFiles('528.2-Project-2/valid/labels', 'kittiyolo/valid/labels')\n",
    "moveFiles('528.2-Project-2/valid/images', 'kittiyolo/valid/images')"
   ]
  },
  {
   "cell_type": "markdown",
   "metadata": {
    "id": "0CFOcCDgt8GE"
   },
   "source": [
    "# The next cell can be used to train the dataset on the small version of YOLOv5. \n",
    "Changing the parameters might lead to improved performance. See the detect.py file for information on parameters"
   ]
  },
  {
   "cell_type": "code",
   "execution_count": null,
   "metadata": {
    "id": "778i_ZvMq7mr"
   },
   "outputs": [],
   "source": [
    "!python train.py --img 512 --batch 100 --epochs 25 --data ./data.yaml --weights yolov5s.pt"
   ]
  },
  {
   "cell_type": "markdown",
   "metadata": {
    "id": "nU1Cr7zyGA1J"
   },
   "source": [
    "# The cells below can be used to create an 8 bit integer quantized tflite model\n",
    "If you ran the above code to train the model, it will be saved in ./runs/train/exp#/best-int8.tflite\n",
    "\n",
    "You may find it helpful to rename this file a more descriptive name. If you do this, the --weights path in the next few cells must be changed to that path"
   ]
  },
  {
   "cell_type": "code",
   "execution_count": null,
   "metadata": {
    "id": "UaMnlG7Q3tCg"
   },
   "outputs": [],
   "source": [
    "!python export.py --weights ./kitti_kaleo_512.pt --include tflite --img-size 448 --int8"
   ]
  },
  {
   "cell_type": "markdown",
   "metadata": {
    "id": "EzCSq-dtQo7H"
   },
   "source": [
    "The next three cells will create an edge TPU optimized version of the tflite model ready for deployment"
   ]
  },
  {
   "cell_type": "code",
   "execution_count": null,
   "metadata": {
    "id": "AIn8ksAuF4PX"
   },
   "outputs": [],
   "source": [
    "%env TFLITE_FILE=./runs/train/exp/weights/best-int8.tflite"
   ]
  },
  {
   "cell_type": "code",
   "execution_count": null,
   "metadata": {
    "id": "BMe1cjspV3tO"
   },
   "outputs": [],
   "source": [
    "! curl https://packages.cloud.google.com/apt/doc/apt-key.gpg | sudo apt-key add -\n",
    "\n",
    "! echo \"deb https://packages.cloud.google.com/apt coral-edgetpu-stable main\" | sudo tee /etc/apt/sources.list.d/coral-edgetpu.list\n",
    "\n",
    "! sudo apt-get update\n",
    "\n",
    "! sudo apt-get install edgetpu-compiler\t"
   ]
  },
  {
   "cell_type": "code",
   "execution_count": null,
   "metadata": {
    "id": "6w7AHll3V7Bs"
   },
   "outputs": [],
   "source": [
    "! edgetpu_compiler $TFLITE_FILE"
   ]
  },
  {
   "cell_type": "markdown",
   "metadata": {
    "id": "W74VXxfDQ738"
   },
   "source": [
    "The next cell evaluates the baseline Pytorch model"
   ]
  },
  {
   "cell_type": "code",
   "execution_count": null,
   "metadata": {
    "id": "VpnJo0EKrHy4"
   },
   "outputs": [],
   "source": [
    "!python val.py --weights ./runs/train/exp/weights/best.pt --img 640 --conf 0.25 --data data.yaml"
   ]
  },
  {
   "cell_type": "code",
   "execution_count": null,
   "metadata": {
    "id": "CRzgFGDlwv9E"
   },
   "outputs": [],
   "source": [
    "!python val.py --weights ./runs/train/exp/weights/best-int8_edgetpu.tflite --img 320 --conf 0.25 --data data.yaml"
   ]
  },
  {
   "cell_type": "code",
   "execution_count": null,
   "metadata": {
    "id": "j9BzxZjz5fy4"
   },
   "outputs": [],
   "source": [
    "!python val.py --weights ./runs/train/exp/weights/best-int8.tflite --img 320 --conf 0.25 --data data.yaml"
   ]
  },
  {
   "cell_type": "code",
   "execution_count": null,
   "metadata": {
    "id": "wdFARDJ7pHAR"
   },
   "outputs": [],
   "source": [
    "!python val.py --weights ./kitti_kaleo_512-int8.tflite --img 448 --conf 0.25 --data data.yaml"
   ]
  }
 ],
 "metadata": {
  "accelerator": "GPU",
  "colab": {
   "collapsed_sections": [],
   "machine_shape": "hm",
   "name": "ECE528Project.ipynb",
   "provenance": []
  },
  "kernelspec": {
   "display_name": "Python 3 (ipykernel)",
   "language": "python",
   "name": "python3"
  },
  "language_info": {
   "codemirror_mode": {
    "name": "ipython",
    "version": 3
   },
   "file_extension": ".py",
   "mimetype": "text/x-python",
   "name": "python",
   "nbconvert_exporter": "python",
   "pygments_lexer": "ipython3",
   "version": "3.8.0"
  }
 },
 "nbformat": 4,
 "nbformat_minor": 4
}
